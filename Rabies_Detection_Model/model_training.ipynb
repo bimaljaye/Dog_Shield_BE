{
 "cells": [
  {
   "cell_type": "markdown",
   "id": "b1c10225",
   "metadata": {},
   "source": [
    "### Importing libraries"
   ]
  },
  {
   "cell_type": "code",
   "execution_count": 2,
   "id": "87f5006b",
   "metadata": {},
   "outputs": [],
   "source": [
    "import pandas as pd\n",
    "import numpy as np\n",
    "import matplotlib.pyplot as plt\n",
    "import seaborn as sns\n",
    "\n",
    "# ML Libraries\n",
    "from sklearn.model_selection import train_test_split\n",
    "from sklearn.preprocessing import StandardScaler, OneHotEncoder\n",
    "from sklearn.compose import ColumnTransformer\n",
    "from sklearn.pipeline import Pipeline\n",
    "from sklearn.metrics import classification_report, confusion_matrix, ConfusionMatrixDisplay, roc_auc_score\n",
    "\n",
    "# Models\n",
    "from sklearn.linear_model import LogisticRegression\n",
    "from sklearn.ensemble import RandomForestClassifier\n",
    "from xgboost import XGBClassifier"
   ]
  },
  {
   "cell_type": "markdown",
   "id": "0fad3220",
   "metadata": {},
   "source": [
    "### Loading the dataset"
   ]
  },
  {
   "cell_type": "code",
   "execution_count": 3,
   "id": "444b1d23",
   "metadata": {},
   "outputs": [],
   "source": [
    "df = pd.read_csv('rabies_dataset.csv')\n",
    "\n",
    "# Set the aesthetic style of the plots\n",
    "sns.set_style('whitegrid')"
   ]
  },
  {
   "cell_type": "markdown",
   "id": "17a0aa6e",
   "metadata": {},
   "source": [
    "### Defining the features and target"
   ]
  },
  {
   "cell_type": "code",
   "execution_count": null,
   "id": "239cb133",
   "metadata": {},
   "outputs": [],
   "source": [
    "# dog_breed  --> No effect for rabies                \n",
    "# dog_age    --> No effect for rabies            \n",
    "# vaccinated               \n",
    "# grooming                 \n",
    "# rabies                   \n",
    "# fever                    \n",
    "# lethargy                 \n",
    "# behavior_change          \n",
    "# aggression               \n",
    "# excessive_drooling       \n",
    "# difficulty_swallowing    \n",
    "# seizures                 \n",
    "# staggering_gait          \n",
    "# hind_leg_paralysis       \n",
    "# jaw_dropped \n",
    "\n",
    "# Define features (X) and target (y)\n",
    "X = df.drop(['rabies', 'dog_breed', 'dog_age'], axis=1) # Drop target and non-effective features\n",
    "y = df['rabies'].map({'yes': 1, 'no': 0})  # Convert target to 1s and 0s\n",
    "\n",
    "\n",
    "binary_features = [col for col in X.columns if X[col].nunique() == 2 and X[col].dtype == 'object']\n",
    "\n",
    "\n",
    "# Pre-map binary features to 0 and 1\n",
    "for col in binary_features:\n",
    "    X[col] = X[col].map({'yes': 1, 'no': 0})\n"
   ]
  },
  {
   "cell_type": "code",
   "execution_count": 7,
   "id": "f5aea783",
   "metadata": {},
   "outputs": [
    {
     "data": {
      "text/plain": [
       "Index(['vaccinated', 'grooming', 'fever', 'lethargy', 'behavior_change',\n",
       "       'aggression', 'excessive_drooling', 'difficulty_swallowing', 'seizures',\n",
       "       'staggering_gait', 'hind_leg_paralysis', 'jaw_dropped'],\n",
       "      dtype='object')"
      ]
     },
     "execution_count": 7,
     "metadata": {},
     "output_type": "execute_result"
    }
   ],
   "source": [
    "X.columns"
   ]
  },
  {
   "cell_type": "code",
   "execution_count": 5,
   "id": "52e5e023",
   "metadata": {},
   "outputs": [
    {
     "name": "stdout",
     "output_type": "stream",
     "text": [
      "Training set shape: (2400, 12)\n",
      "Testing set shape: (600, 12)\n",
      "Rabies cases in training set: 360 (15.0%)\n",
      "Rabies cases in testing set: 90 (15.0%)\n"
     ]
    }
   ],
   "source": [
    "# Split data into 80% for training and 20% for testing\n",
    "# stratify=y ensures the class distribution is the same in train and test sets\n",
    "X_train, X_test, y_train, y_test = train_test_split(\n",
    "    X, y, \n",
    "    test_size=0.2, \n",
    "    random_state=42, \n",
    "    stratify=y\n",
    ")\n",
    "\n",
    "print(f\"Training set shape: {X_train.shape}\")\n",
    "print(f\"Testing set shape: {X_test.shape}\")\n",
    "print(f\"Rabies cases in training set: {y_train.sum()} ({round(y_train.mean()*100, 2)}%)\")\n",
    "print(f\"Rabies cases in testing set: {y_test.sum()} ({round(y_test.mean()*100, 2)}%)\")"
   ]
  },
  {
   "cell_type": "code",
   "execution_count": 7,
   "id": "f6679100",
   "metadata": {},
   "outputs": [
    {
     "name": "stdout",
     "output_type": "stream",
     "text": [
      "Logistic Regression model trained.\n",
      "Random Forest model trained.\n",
      "XGBoost model trained.\n"
     ]
    },
    {
     "name": "stderr",
     "output_type": "stream",
     "text": [
      "f:\\Bimal_Project\\Dog_Shield_BE\\.venv\\Lib\\site-packages\\xgboost\\training.py:183: UserWarning: [16:08:23] WARNING: C:\\actions-runner\\_work\\xgboost\\xgboost\\src\\learner.cc:738: \n",
      "Parameters: { \"use_label_encoder\" } are not used.\n",
      "\n",
      "  bst.update(dtrain, iteration=i, fobj=obj)\n"
     ]
    }
   ],
   "source": [
    "# Define the models\n",
    "models = {\n",
    "    \"Logistic Regression\": LogisticRegression(random_state=42, class_weight='balanced'),\n",
    "    \"Random Forest\": RandomForestClassifier(random_state=42, class_weight='balanced'),\n",
    "    \"XGBoost\": XGBClassifier(random_state=42, use_label_encoder=False, eval_metric='logloss')\n",
    "}\n",
    "\n",
    "# Create and train a pipeline for each model\n",
    "for name, model in models.items():\n",
    "    \n",
    "    # Chain the preprocessor and the model in a pipeline\n",
    "    pipe = Pipeline(steps=[('classifier', model)])\n",
    "    \n",
    "    # Train the pipeline on the training data\n",
    "    pipe.fit(X_train, y_train)\n",
    "    \n",
    "    # Store the trained pipeline back into our dictionary\n",
    "    models[name] = pipe\n",
    "    \n",
    "    print(f\"{name} model trained.\")"
   ]
  },
  {
   "cell_type": "code",
   "execution_count": 11,
   "id": "6fd9ce1c",
   "metadata": {},
   "outputs": [
    {
     "name": "stdout",
     "output_type": "stream",
     "text": [
      "--- Evaluating: Logistic Regression ---\n",
      "              precision    recall  f1-score   support\n",
      "\n",
      "   No Rabies       1.00      1.00      1.00       510\n",
      "      Rabies       0.99      0.98      0.98        90\n",
      "\n",
      "    accuracy                           0.99       600\n",
      "   macro avg       0.99      0.99      0.99       600\n",
      "weighted avg       0.99      0.99      0.99       600\n",
      "\n"
     ]
    },
    {
     "data": {
      "image/png": "[encoded data removed]",
      "text/plain": [
       "<Figure size 600x500 with 2 Axes>"
      ]
     },
     "metadata": {},
     "output_type": "display_data"
    },
    {
     "name": "stdout",
     "output_type": "stream",
     "text": [
      "--- Evaluating: Random Forest ---\n",
      "              precision    recall  f1-score   support\n",
      "\n",
      "   No Rabies       1.00      1.00      1.00       510\n",
      "      Rabies       0.99      0.98      0.98        90\n",
      "\n",
      "    accuracy                           0.99       600\n",
      "   macro avg       0.99      0.99      0.99       600\n",
      "weighted avg       0.99      0.99      0.99       600\n",
      "\n"
     ]
    },
    {
     "data": {
      "image/png": "[encoded data removed]",
      "text/plain": [
       "<Figure size 600x500 with 2 Axes>"
      ]
     },
     "metadata": {},
     "output_type": "display_data"
    },
    {
     "name": "stdout",
     "output_type": "stream",
     "text": [
      "--- Evaluating: XGBoost ---\n",
      "              precision    recall  f1-score   support\n",
      "\n",
      "   No Rabies       1.00      1.00      1.00       510\n",
      "      Rabies       0.99      0.98      0.98        90\n",
      "\n",
      "    accuracy                           0.99       600\n",
      "   macro avg       0.99      0.99      0.99       600\n",
      "weighted avg       0.99      0.99      0.99       600\n",
      "\n"
     ]
    },
    {
     "data": {
      "image/png": "[encoded data removed]",
      "text/plain": [
       "<Figure size 600x500 with 2 Axes>"
      ]
     },
     "metadata": {},
     "output_type": "display_data"
    }
   ],
   "source": [
    "# Store results for comparison\n",
    "results = {}\n",
    "\n",
    "for name, model in models.items():\n",
    "    print(f\"--- Evaluating: {name} ---\")\n",
    "    \n",
    "    # Make predictions on the test set\n",
    "    y_pred = model.predict(X_test)\n",
    "    \n",
    "    # Define the target names once\n",
    "    class_labels = ['No Rabies', 'Rabies']\n",
    "    \n",
    "    # Generate classification report for printing\n",
    "    report = classification_report(y_test, y_pred, target_names=class_labels)\n",
    "    print(report)\n",
    "    \n",
    "    # THE FIX: Add target_names to this call to create the dictionary with the correct keys.\n",
    "    report_dict = classification_report(y_test, y_pred, output_dict=True, target_names=class_labels)\n",
    "    \n",
    "    # Now this line will work correctly\n",
    "    results[name] = report_dict['Rabies']['recall']\n",
    "    \n",
    "    # Generate and plot confusion matrix\n",
    "    cm = confusion_matrix(y_test, y_pred)\n",
    "    # Use the same class_labels for the display\n",
    "    disp = ConfusionMatrixDisplay(confusion_matrix=cm, display_labels=class_labels)\n",
    "    \n",
    "    fig, ax = plt.subplots(figsize=(6, 5))\n",
    "    disp.plot(ax=ax, cmap='Reds')\n",
    "    ax.set_title(f'Confusion Matrix for {name}')\n",
    "    plt.show()"
   ]
  },
  {
   "cell_type": "code",
   "execution_count": 15,
   "id": "dd77f9c2",
   "metadata": {},
   "outputs": [
    {
     "name": "stdout",
     "output_type": "stream",
     "text": [
      "\n",
      "--- Model Comparison (Based on Rabies Recall) ---\n",
      "Logistic Regression: 0.9778\n",
      "Random Forest: 0.9778\n",
      "XGBoost: 0.9778\n",
      "\n",
      "🏆 The best performing model is: XGBoost with a Recall of 0.9778\n",
      "\n",
      "This means the XGBoost model correctly identified 97.78% of all actual rabies cases in the test set.\n"
     ]
    }
   ],
   "source": [
    "# Find the best model based on Recall for the 'Rabies' class\n",
    "# best_model_name = max(results, key=results.get)\n",
    "best_model_name = \"XGBoost\"\n",
    "best_model_recall = results[\"XGBoost\"]\n",
    "\n",
    "print(\"\\n--- Model Comparison (Based on Rabies Recall) ---\")\n",
    "for name, recall in results.items():\n",
    "    print(f\"{name}: {recall:.4f}\")\n",
    "    \n",
    "print(f\"\\n🏆 The best performing model is: {best_model_name} with a Recall of {best_model_recall:.4f}\")\n",
    "print(f\"\\nThis means the {best_model_name} model correctly identified {best_model_recall:.2%} of all actual rabies cases in the test set.\")\n",
    "\n",
    "# You can now use the best model for future predictions\n",
    "best_model = models[best_model_name]"
   ]
  },
  {
   "cell_type": "code",
   "execution_count": 16,
   "id": "af0215c9",
   "metadata": {},
   "outputs": [
    {
     "name": "stdout",
     "output_type": "stream",
     "text": [
      "Model 'XGBoost' has been saved successfully as 'xgboost_rabies_model.pkl'\n"
     ]
    }
   ],
   "source": [
    "import pickle\n",
    "\n",
    "# Select the best model from your dictionary\n",
    "best_model_name = \"XGBoost\" \n",
    "best_model = models[best_model_name]\n",
    "\n",
    "# Define a filename for your model\n",
    "filename = 'xgboost_rabies_model.pkl'\n",
    "\n",
    "# Open a file in write-binary mode and save the model to it\n",
    "with open(filename, 'wb') as file:\n",
    "    pickle.dump(best_model, file)\n",
    "\n",
    "print(f\"Model '{best_model_name}' has been saved successfully as '{filename}'\")"
   ]
  },
  {
   "cell_type": "code",
   "execution_count": 1,
   "id": "57059ab1",
   "metadata": {},
   "outputs": [
    {
     "name": "stdout",
     "output_type": "stream",
     "text": [
      "Model loaded successfully!\n"
     ]
    }
   ],
   "source": [
    "import pickle\n",
    "import pandas as pd\n",
    "import numpy as np\n",
    "\n",
    "# Load the saved model pipeline from the file\n",
    "try:\n",
    "    with open('xgboost_rabies_model.pkl', 'rb') as file:\n",
    "        loaded_model = pickle.load(file)\n",
    "    print(\"Model loaded successfully!\")\n",
    "except FileNotFoundError:\n",
    "    print(\"Error: Model file not found. Make sure 'xgboost_rabies_model.pkl' is in the directory.\")"
   ]
  },
  {
   "cell_type": "code",
   "execution_count": 14,
   "id": "06abb33c",
   "metadata": {},
   "outputs": [],
   "source": [
    "def predict_rabies_risk(dog_data):\n",
    "    \"\"\"\n",
    "    Predicts the risk of rabies for a single dog using the loaded model.\n",
    "    \n",
    "    Args:\n",
    "        dog_data (dict): A dictionary containing the dog's features.\n",
    "    \n",
    "    Returns:\n",
    "        tuple: A tuple containing the prediction string and the confidence probability.\n",
    "    \"\"\"\n",
    "    # Define the correct order of columns that the model was trained on\n",
    "    # This must match the order in the original DataFrame, excluding 'dog_id' , 'rabies', 'dog_age'.\n",
    "    feature_order = ['vaccinated', 'grooming', 'fever', 'lethargy', 'behavior_change',\n",
    "       'aggression', 'excessive_drooling', 'difficulty_swallowing', 'seizures',\n",
    "       'staggering_gait', 'hind_leg_paralysis', 'jaw_dropped']\n",
    "    \n",
    "    # 1. Convert the input dictionary into a pandas DataFrame\n",
    "    # The model's pipeline expects a DataFrame with the correct column names\n",
    "    input_df = pd.DataFrame([dog_data]).applymap({'yes': 1, 'no': 0}.get)\n",
    "    \n",
    "    # # 2. Ensure the DataFrame columns are in the correct order\n",
    "    # input_df = input_df[feature_order].map({'yes': 1, 'no': 0})\n",
    "\n",
    "    # 3. Use the model to predict the class (0 or 1)\n",
    "    prediction_code = loaded_model.predict(input_df)[0]\n",
    "    \n",
    "    # 4. Use the model to predict the probability for each class\n",
    "    # predict_proba returns an array like [[prob_no, prob_yes]]\n",
    "    prediction_proba = loaded_model.predict_proba(input_df)[0]\n",
    "    \n",
    "    # 5. Interpret the results into a human-readable format\n",
    "    if prediction_code == 1:\n",
    "        prediction_text = \"High Risk: Rabies Detected\"\n",
    "        confidence = prediction_proba[1] # Probability of 'yes' (rabies)\n",
    "    else:\n",
    "        prediction_text = \"Low Risk: No Rabies Detected\"\n",
    "        confidence = prediction_proba[0] # Probability of 'no'\n",
    "        \n",
    "    return prediction_text, confidence"
   ]
  },
  {
   "cell_type": "code",
   "execution_count": 39,
   "id": "0ca79703",
   "metadata": {},
   "outputs": [
    {
     "name": "stdout",
     "output_type": "stream",
     "text": [
      "\n",
      "Test Case 1 (High-Risk Dog):\n",
      "  Prediction: High Risk: Rabies Detected\n",
      "  Confidence: 69.04%\n"
     ]
    },
    {
     "name": "stderr",
     "output_type": "stream",
     "text": [
      "C:\\Users\\ywcha\\AppData\\Local\\Temp\\ipykernel_22276\\1441853873.py:19: FutureWarning: DataFrame.applymap has been deprecated. Use DataFrame.map instead.\n",
      "  input_df = pd.DataFrame([dog_data]).applymap({'yes': 1, 'no': 0}.get)\n"
     ]
    }
   ],
   "source": [
    "# --- TEST SCENARIOS ---\n",
    "\n",
    "# feature_order = ['vaccinated', 'grooming', 'fever', 'lethargy', 'behavior_change',\n",
    "#        'aggression', 'excessive_drooling', 'difficulty_swallowing', 'seizures',\n",
    "#        'staggering_gait', 'hind_leg_paralysis', 'jaw_dropped']\n",
    "\n",
    "# Scenario 1: A clear high-risk case\n",
    "high_risk_dog = {\n",
    "    'vaccinated': 'yes',\n",
    "    'grooming': 'no',\n",
    "    'fever': 'no',\n",
    "    'lethargy': 'yes',\n",
    "    'behavior_change':'yes',\n",
    "    'aggression': 'no',\n",
    "    'excessive_drooling': 'no',\n",
    "    'difficulty_swallowing': 'no',\n",
    "    'seizures': 'no',\n",
    "    'staggering_gait': 'no',\n",
    "    'hind_leg_paralysis': 'no',\n",
    "    'jaw_dropped': 'no'  \n",
    "}\n",
    "\n",
    "\n",
    "# Test Case 1\n",
    "prediction, confidence = predict_rabies_risk(high_risk_dog)\n",
    "print(f\"\\nTest Case 1 (High-Risk Dog):\")\n",
    "print(f\"  Prediction: {prediction}\")\n",
    "print(f\"  Confidence: {confidence:.2%}\")\n"
   ]
  },
  {
   "cell_type": "code",
   "execution_count": null,
   "id": "ce3c7467",
   "metadata": {},
   "outputs": [],
   "source": []
  },
  {
   "cell_type": "code",
   "execution_count": null,
   "id": "e06b9b47",
   "metadata": {},
   "outputs": [],
   "source": []
  }
 ],
 "metadata": {
  "kernelspec": {
   "display_name": ".venv (3.12.5)",
   "language": "python",
   "name": "python3"
  },
  "language_info": {
   "codemirror_mode": {
    "name": "ipython",
    "version": 3
   },
   "file_extension": ".py",
   "mimetype": "text/x-python",
   "name": "python",
   "nbconvert_exporter": "python",
   "pygments_lexer": "ipython3",
   "version": "3.12.5"
  }
 },
 "nbformat": 4,
 "nbformat_minor": 5
}
